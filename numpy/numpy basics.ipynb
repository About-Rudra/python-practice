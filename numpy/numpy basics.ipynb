{
 "cells": [
  {
   "cell_type": "markdown",
   "id": "a03ec71a",
   "metadata": {},
   "source": [
    "## ARRAY CREATION"
   ]
  },
  {
   "cell_type": "code",
   "execution_count": 2,
   "id": "79fc2ea4",
   "metadata": {},
   "outputs": [],
   "source": [
    "import numpy as np"
   ]
  },
  {
   "cell_type": "code",
   "execution_count": 3,
   "id": "64734404",
   "metadata": {},
   "outputs": [
    {
     "data": {
      "text/plain": [
       "(5,)"
      ]
     },
     "execution_count": 3,
     "metadata": {},
     "output_type": "execute_result"
    }
   ],
   "source": [
    "arr1 = np.array([1,2,3,4,5])\n",
    "arr1\n",
    "arr1.size\n",
    "arr1.ndim\n",
    "arr1.shape"
   ]
  },
  {
   "cell_type": "code",
   "execution_count": 4,
   "id": "a5583b25",
   "metadata": {},
   "outputs": [
    {
     "data": {
      "text/plain": [
       "2"
      ]
     },
     "execution_count": 4,
     "metadata": {},
     "output_type": "execute_result"
    }
   ],
   "source": [
    "arr2 = np.array([[1,2,3], [4,5,6], [7,8,9]])\n",
    "arr2.shape\n",
    "arr2.size\n",
    "arr2.ndim"
   ]
  },
  {
   "cell_type": "code",
   "execution_count": null,
   "id": "5e748a45",
   "metadata": {},
   "outputs": [
    {
     "data": {
      "text/plain": [
       "array([[0., 0.],\n",
       "       [0., 0.],\n",
       "       [0., 0.],\n",
       "       [0., 0.]])"
      ]
     },
     "execution_count": 15,
     "metadata": {},
     "output_type": "execute_result"
    }
   ],
   "source": [
    "zeros = np.zeros((4,2)) #4 rows and 2 columns\n",
    "zeros"
   ]
  },
  {
   "cell_type": "code",
   "execution_count": 5,
   "id": "ca6e977c",
   "metadata": {},
   "outputs": [
    {
     "data": {
      "text/plain": [
       "array([[1., 1., 1., 1., 1., 1.],\n",
       "       [1., 1., 1., 1., 1., 1.],\n",
       "       [1., 1., 1., 1., 1., 1.],\n",
       "       [1., 1., 1., 1., 1., 1.],\n",
       "       [1., 1., 1., 1., 1., 1.]])"
      ]
     },
     "execution_count": 5,
     "metadata": {},
     "output_type": "execute_result"
    }
   ],
   "source": [
    "ones = np.ones((5,6))\n",
    "ones"
   ]
  },
  {
   "cell_type": "code",
   "execution_count": 7,
   "id": "3d4a2ca1",
   "metadata": {},
   "outputs": [
    {
     "data": {
      "text/plain": [
       "array([ 2,  4,  6,  8, 10, 12, 14, 16, 18])"
      ]
     },
     "execution_count": 7,
     "metadata": {},
     "output_type": "execute_result"
    }
   ],
   "source": [
    "range_arr = np.arange(2, 20, 2)\n",
    "range_arr"
   ]
  },
  {
   "cell_type": "code",
   "execution_count": 21,
   "id": "fda11cd1",
   "metadata": {},
   "outputs": [
    {
     "data": {
      "text/plain": [
       "array([[8, 4, 5, 9, 7]])"
      ]
     },
     "execution_count": 21,
     "metadata": {},
     "output_type": "execute_result"
    }
   ],
   "source": [
    "random_array = np.random.randint(1, 10 , (1,5))\n",
    "random_array"
   ]
  },
  {
   "cell_type": "code",
   "execution_count": 24,
   "id": "57f4ac4f",
   "metadata": {},
   "outputs": [
    {
     "data": {
      "text/plain": [
       "array([[4, 4, 4],\n",
       "       [4, 4, 4],\n",
       "       [4, 4, 4]])"
      ]
     },
     "execution_count": 24,
     "metadata": {},
     "output_type": "execute_result"
    }
   ],
   "source": [
    "full_array = np.full((3,3), 4)\n",
    "full_array"
   ]
  },
  {
   "cell_type": "markdown",
   "id": "9e7ab0ec",
   "metadata": {},
   "source": [
    "## INDEXING"
   ]
  },
  {
   "cell_type": "code",
   "execution_count": 31,
   "id": "c7e2e2e8",
   "metadata": {},
   "outputs": [
    {
     "data": {
      "text/plain": [
       "array([[9.48444071, 5.99610584, 6.60239851, 9.03949499, 5.45970795,\n",
       "        8.62655086],\n",
       "       [7.98577933, 7.04416355, 5.86727937, 5.77130092, 4.81889583,\n",
       "        1.52069254],\n",
       "       [4.65818724, 9.25710015, 2.10064044, 1.10814937, 2.03307783,\n",
       "        6.81267612],\n",
       "       [1.83385616, 2.59078791, 6.48409038, 6.32140186, 1.37602454,\n",
       "        3.51494955],\n",
       "       [5.52631903, 9.59656182, 6.69079282, 2.73457173, 4.46072341,\n",
       "        4.99836025]])"
      ]
     },
     "execution_count": 31,
     "metadata": {},
     "output_type": "execute_result"
    }
   ],
   "source": [
    "random_float_array = np.random.uniform(1,10, (5,6))\n",
    "random_float_array"
   ]
  },
  {
   "cell_type": "code",
   "execution_count": 33,
   "id": "8239f7e2",
   "metadata": {},
   "outputs": [
    {
     "data": {
      "text/plain": [
       "array([[76, 39,  4,  2, 80, 79],\n",
       "       [56, 75, 64, 70, 53, 77],\n",
       "       [63, 32, 43, 99, 43, 59],\n",
       "       [89, 29, 32, 63, 69, 82],\n",
       "       [10, 67, 81, 78, 39, 15]])"
      ]
     },
     "execution_count": 33,
     "metadata": {},
     "output_type": "execute_result"
    }
   ],
   "source": [
    "random_array1 = np.random.randint(1,100, (5,6))\n",
    "random_array1"
   ]
  },
  {
   "cell_type": "markdown",
   "id": "d2afea8c",
   "metadata": {},
   "source": [
    "rule to remember indexing:\n",
    "x to smaller than y"
   ]
  },
  {
   "cell_type": "code",
   "execution_count": 40,
   "id": "5c6358a7",
   "metadata": {},
   "outputs": [
    {
     "data": {
      "text/plain": [
       "array([[64, 70, 53, 77],\n",
       "       [43, 99, 43, 59],\n",
       "       [32, 63, 69, 82]])"
      ]
     },
     "execution_count": 40,
     "metadata": {},
     "output_type": "execute_result"
    }
   ],
   "source": [
    "random_array1[1:4,2:]"
   ]
  },
  {
   "cell_type": "markdown",
   "id": "65eda6b9",
   "metadata": {},
   "source": [
    "fancy indexing:"
   ]
  },
  {
   "cell_type": "code",
   "execution_count": 42,
   "id": "4d54e108",
   "metadata": {},
   "outputs": [
    {
     "data": {
      "text/plain": [
       "array([[56, 75, 64, 70, 53, 77],\n",
       "       [10, 67, 81, 78, 39, 15]])"
      ]
     },
     "execution_count": 42,
     "metadata": {},
     "output_type": "execute_result"
    }
   ],
   "source": [
    "rows = [1,4] # selecting rows 1 and 4\n",
    "random_array1[rows, :]"
   ]
  },
  {
   "cell_type": "markdown",
   "id": "098c7342",
   "metadata": {},
   "source": [
    "## reshaping, concatination and splitting"
   ]
  },
  {
   "cell_type": "code",
   "execution_count": 54,
   "id": "43da55ca",
   "metadata": {},
   "outputs": [
    {
     "data": {
      "text/plain": [
       "array([ 1,  2,  3,  4,  5,  6,  7,  8,  9, 10, 11, 12])"
      ]
     },
     "execution_count": 54,
     "metadata": {},
     "output_type": "execute_result"
    }
   ],
   "source": [
    "arr3 = np.arange(1,13)\n",
    "arr3"
   ]
  },
  {
   "cell_type": "code",
   "execution_count": 70,
   "id": "60f562a4",
   "metadata": {},
   "outputs": [
    {
     "data": {
      "text/plain": [
       "array([[ 1,  2,  3,  4],\n",
       "       [ 5,  6,  7,  8],\n",
       "       [ 9, 10, 11, 12]])"
      ]
     },
     "execution_count": 70,
     "metadata": {},
     "output_type": "execute_result"
    }
   ],
   "source": [
    "reshaped = arr3.reshape(3,4) # x to less than y\n",
    "reshaped"
   ]
  },
  {
   "cell_type": "code",
   "execution_count": 74,
   "id": "71ec5931",
   "metadata": {},
   "outputs": [
    {
     "data": {
      "text/plain": [
       "array([[ 1,  5,  9],\n",
       "       [ 2,  6, 10],\n",
       "       [ 3,  7, 11],\n",
       "       [ 4,  8, 12]])"
      ]
     },
     "execution_count": 74,
     "metadata": {},
     "output_type": "execute_result"
    }
   ],
   "source": [
    "transposed = reshaped.T\n",
    "transposed"
   ]
  },
  {
   "cell_type": "markdown",
   "id": "d94779a0",
   "metadata": {},
   "source": [
    "Splitting"
   ]
  },
  {
   "cell_type": "code",
   "execution_count": 82,
   "id": "aca1028d",
   "metadata": {},
   "outputs": [
    {
     "data": {
      "text/plain": [
       "array([ 1,  2,  3,  4,  5,  6,  7,  8,  9, 10, 11, 12, 13, 14, 15, 16])"
      ]
     },
     "execution_count": 82,
     "metadata": {},
     "output_type": "execute_result"
    }
   ],
   "source": [
    "arr4 = np.arange(1,17)\n",
    "arr4"
   ]
  },
  {
   "cell_type": "code",
   "execution_count": 84,
   "id": "e155046f",
   "metadata": {},
   "outputs": [
    {
     "data": {
      "text/plain": [
       "[array([1, 2, 3, 4]),\n",
       " array([5, 6, 7, 8]),\n",
       " array([ 9, 10, 11, 12]),\n",
       " array([13, 14, 15, 16])]"
      ]
     },
     "execution_count": 84,
     "metadata": {},
     "output_type": "execute_result"
    }
   ],
   "source": [
    "split_arr = np.split(arr4, 4)\n",
    "split_arr"
   ]
  },
  {
   "cell_type": "markdown",
   "id": "1d8cd403",
   "metadata": {},
   "source": [
    "broadcasting"
   ]
  },
  {
   "cell_type": "code",
   "execution_count": 87,
   "id": "f3e20a5d",
   "metadata": {},
   "outputs": [
    {
     "name": "stdout",
     "output_type": "stream",
     "text": [
      "[[2 4]\n",
      " [4 6]]\n"
     ]
    }
   ],
   "source": [
    "# Broadcasting\n",
    "arr2 = np.array([[1, 2], [3, 4]])\n",
    "print(arr2 + np.array([1, 2]))"
   ]
  },
  {
   "cell_type": "code",
   "execution_count": null,
   "id": "18b2880d",
   "metadata": {},
   "outputs": [],
   "source": []
  }
 ],
 "metadata": {
  "kernelspec": {
   "display_name": "Python 3",
   "language": "python",
   "name": "python3"
  },
  "language_info": {
   "codemirror_mode": {
    "name": "ipython",
    "version": 3
   },
   "file_extension": ".py",
   "mimetype": "text/x-python",
   "name": "python",
   "nbconvert_exporter": "python",
   "pygments_lexer": "ipython3",
   "version": "3.12.2"
  }
 },
 "nbformat": 4,
 "nbformat_minor": 5
}
